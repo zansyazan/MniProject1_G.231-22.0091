{
  "nbformat": 4,
  "nbformat_minor": 0,
  "metadata": {
    "colab": {
      "provenance": [],
      "authorship_tag": "ABX9TyNyeMU9bMu7G5kqTHjQyFCJ",
      "include_colab_link": true
    },
    "kernelspec": {
      "name": "python3",
      "display_name": "Python 3"
    },
    "language_info": {
      "name": "python"
    }
  },
  "cells": [
    {
      "cell_type": "markdown",
      "metadata": {
        "id": "view-in-github",
        "colab_type": "text"
      },
      "source": [
        "<a href=\"https://colab.research.google.com/github/zansyazan/MniProject1_G.231-22.0091/blob/main/PRAKTIKUM1_G_231_22_0091.ipynb\" target=\"_parent\"><img src=\"https://colab.research.google.com/assets/colab-badge.svg\" alt=\"Open In Colab\"/></a>"
      ]
    },
    {
      "cell_type": "code",
      "execution_count": 1,
      "metadata": {
        "colab": {
          "base_uri": "https://localhost:8080/"
        },
        "id": "Vu_BA7vObSD0",
        "outputId": "bcbb8ee2-ab3c-4e45-fb92-6c4ea73856b1"
      },
      "outputs": [
        {
          "output_type": "stream",
          "name": "stdout",
          "text": [
            "isi temanku indeks ke-3 adalah: cristian\n",
            "semua teman:ada5orang\n",
            "brian\n",
            "aca\n",
            "bowo\n",
            "cristian\n",
            "carel\n"
          ]
        }
      ],
      "source": [
        "temanku = [\"brian\", \"aca\", \"bowo\", \"cristian\", \"carel\"]\n",
        "#tampilkan isi list temanku dengan nomor indeks 3\n",
        "print(\"isi temanku indeks ke-3 adalah: {}\".format(temanku[3]))\n",
        "#tampilan semua daftar teman\n",
        "print(\"semua teman:ada{}orang\".format(len(temanku)))\n",
        "for friend in temanku:\n",
        "    print (friend)"
      ]
    },
    {
      "cell_type": "code",
      "source": [
        "list_nilai = [1,2,3,4,5,6,7,8,9,10]\n",
        "\n",
        "#tampilkan list\n",
        "print(\"List Nilai : \\n\",list_nilai)\n",
        "\n",
        "#menggunakan len\n",
        "print(\"\\nJumlah Index list nilai (len) : \\n\", len(list_nilai))\n",
        "\n",
        "#menggunakan count\n",
        "print(\"\\nJumlah Nilai 5 Dalam List (count) : \\n\", list_nilai.count(5))\n",
        "\n",
        "#menggunakan append\n",
        "print(\"\\nMenambah element dalam list (append) :\")\n",
        "list_nilai.append(12)\n",
        "list_nilai.append(10)\n",
        "print(\"List Nilai : \",list_nilai)\n",
        "\n",
        "#menggunakan index\n",
        "print(\"\\nIndex ke 8 (index) :\\n\", list_nilai.index(8))\n",
        "\n",
        "#Menggunakan insert\n",
        "list_nilai.insert(1,12)\n",
        "print(\"\\nTambah Nilai List (Insert) : \\n\", list_nilai)\n",
        "\n",
        "#Menggunakan pop\n",
        "list_nilai.pop()\n",
        "list_nilai.pop()\n",
        "print(\"\\nList Nilai (pop) : \\n\",list_nilai)\n",
        "\n",
        "#Menggunakan remove\n",
        "list_nilai.remove(2)\n",
        "list_nilai.remove(1)\n",
        "print(\"\\nList Nilai (remove) : \\n\", list_nilai)"
      ],
      "metadata": {
        "colab": {
          "base_uri": "https://localhost:8080/"
        },
        "id": "3ynp8S7xbvtY",
        "outputId": "a261ef65-560f-4682-c504-9b9182be8563"
      },
      "execution_count": 2,
      "outputs": [
        {
          "output_type": "stream",
          "name": "stdout",
          "text": [
            "List Nilai : \n",
            " [1, 2, 3, 4, 5, 6, 7, 8, 9, 10]\n",
            "\n",
            "Jumlah Index list nilai (len) : \n",
            " 10\n",
            "\n",
            "Jumlah Nilai 5 Dalam List (count) : \n",
            " 1\n",
            "\n",
            "Menambah element dalam list (append) :\n",
            "List Nilai :  [1, 2, 3, 4, 5, 6, 7, 8, 9, 10, 12, 10]\n",
            "\n",
            "Index ke 8 (index) :\n",
            " 7\n",
            "\n",
            "Tambah Nilai List (Insert) : \n",
            " [1, 12, 2, 3, 4, 5, 6, 7, 8, 9, 10, 12, 10]\n",
            "\n",
            "List Nilai (pop) : \n",
            " [1, 12, 2, 3, 4, 5, 6, 7, 8, 9, 10]\n",
            "\n",
            "List Nilai (remove) : \n",
            " [12, 3, 4, 5, 6, 7, 8, 9, 10]\n"
          ]
        }
      ]
    },
    {
      "cell_type": "code",
      "source": [
        "#Menggunakan extend\n",
        "list_nilai2 = [4,3,8,7]\n",
        "list_nilai.extend(list_nilai2)\n",
        "print(\"\\nList Nilai (extend : \\n\", list_nilai)\n",
        "\n",
        "#Menggunakan reverse\n",
        "list_nilai.reverse()\n",
        "print(\"\\nList Nilai (reverse) : \\n\", list_nilai)\n",
        "\n",
        "#Menggunakan sort\n",
        "list_nilai.sort()\n",
        "print(\"\\nList Nilai (sort) : \\n\", list_nilai)\n",
        "\n",
        "#Menggunakan Max\n",
        "print(\"\\nNilai Terbanyak (max) : \\n\", max(list_nilai))\n",
        "\n",
        "#Mengguankan min\n",
        "print(\"\\nNilai terendah (min) : \\n\", min(list_nilai))\n",
        "\n",
        "#Menggunakan Sum\n",
        "print(\"\\nTotal penjumlahan nilai dari list_nilai (sum) : \\n\",\n",
        "sum(list_nilai))"
      ],
      "metadata": {
        "colab": {
          "base_uri": "https://localhost:8080/"
        },
        "id": "5g_flfArb93N",
        "outputId": "bbd7a2f2-c98e-4276-b3e5-dff7eda01c41"
      },
      "execution_count": 3,
      "outputs": [
        {
          "output_type": "stream",
          "name": "stdout",
          "text": [
            "\n",
            "List Nilai (extend : \n",
            " [12, 3, 4, 5, 6, 7, 8, 9, 10, 4, 3, 8, 7]\n",
            "\n",
            "List Nilai (reverse) : \n",
            " [7, 8, 3, 4, 10, 9, 8, 7, 6, 5, 4, 3, 12]\n",
            "\n",
            "List Nilai (sort) : \n",
            " [3, 3, 4, 4, 5, 6, 7, 7, 8, 8, 9, 10, 12]\n",
            "\n",
            "Nilai Terbanyak (max) : \n",
            " 12\n",
            "\n",
            "Nilai terendah (min) : \n",
            " 3\n",
            "\n",
            "Total penjumlahan nilai dari list_nilai (sum) : \n",
            " 86\n"
          ]
        }
      ]
    }
  ]
}